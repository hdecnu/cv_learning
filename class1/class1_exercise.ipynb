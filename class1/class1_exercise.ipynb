{
 "cells": [
  {
   "cell_type": "code",
   "execution_count": null,
   "metadata": {},
   "outputs": [],
   "source": [
    "import cv2\n",
    "import random\n",
    "import numpy as np\n",
    "from matplotlib import pyplot as plt"
   ]
  },
  {
   "cell_type": "code",
   "execution_count": null,
   "metadata": {},
   "outputs": [],
   "source": [
    "#显示灰度图\n",
    "img_gray = cv2.imread('d:/pictures/shushu.jpg',0)\n",
    "cv2.imshow('daughter',img_gray)\n",
    "key = cv2.waitKey()"
   ]
  },
  {
   "cell_type": "code",
   "execution_count": null,
   "metadata": {},
   "outputs": [],
   "source": [
    "print(img_gray)\n",
    "print(img_gray.dtype)\n",
    "print(img_gray.shape)"
   ]
  },
  {
   "cell_type": "code",
   "execution_count": null,
   "metadata": {},
   "outputs": [],
   "source": [
    "#显示彩色图\n",
    "img = cv2.imread('d:/pictures/shushu.jpg')\n",
    "cv2.imshow('daughter',img)\n",
    "key = cv2.waitKey()"
   ]
  },
  {
   "cell_type": "code",
   "execution_count": null,
   "metadata": {},
   "outputs": [],
   "source": [
    "print(img)\n",
    "print(img.shape)\n",
    "print(img.dtype)"
   ]
  },
  {
   "cell_type": "code",
   "execution_count": null,
   "metadata": {},
   "outputs": [],
   "source": [
    "#图像裁剪\n",
    "img_crop = img[100:300,100:300]\n",
    "cv2.imshow('img_crop',img_crop)\n",
    "key = cv2.waitKey()"
   ]
  },
  {
   "cell_type": "code",
   "execution_count": null,
   "metadata": {},
   "outputs": [],
   "source": [
    "#图像通道分割\n",
    "B,G,R = cv2.split(img)\n",
    "cv2.imshow('B',B)\n",
    "cv2.imshow('G',G)\n",
    "cv2.imshow('R',R)\n",
    "key = cv2.waitKey()"
   ]
  },
  {
   "cell_type": "code",
   "execution_count": null,
   "metadata": {},
   "outputs": [],
   "source": [
    "#颜色变换\n",
    "def random_color(img):\n",
    "    B,G,R = cv2.split(img)\n",
    "    b_rand = random.randint(-50,50)\n",
    "    if b_rand == 0:\n",
    "        pass\n",
    "    elif b_rand > 0:\n",
    "        lim = 255 - b_rand\n",
    "        B[B > lim] = 255\n",
    "        B[B <= lim] = (b_rand + B[B <= lim]).astype(img.dtype)\n",
    "    elif b_rand < 0:\n",
    "        lim = 0 - b_rand\n",
    "        B[B < lim] = 0\n",
    "        B[B >= lim] = (b_rand + B[B >= lim]).astype(img.dtype)\n",
    "    g_rand = random.randint(-50,50)\n",
    "    if g_rand == 0:\n",
    "        pass\n",
    "    elif g_rand > 0:\n",
    "        lim = 255 - g_rand\n",
    "        G[G > lim] = 255\n",
    "        G[G <= lim] = (g_rand + G[G <= lim]).astype(img.dtype)\n",
    "    elif g_rand < 0:\n",
    "        lim = 0 - g_rand\n",
    "        G[G < lim] = 0\n",
    "        G[G >= lim] = (g_rand + G[G >= lim]).astype(img.dtype)  \n",
    "    r_rand = random.randint(-50,50)\n",
    "    if r_rand == 0:\n",
    "        pass\n",
    "    elif r_rand > 0:\n",
    "        lim = 255 - r_rand\n",
    "        R[R > lim] = 255\n",
    "        R[R <= lim] = (r_rand + R[R <= lim]).astype(img.dtype)\n",
    "    elif r_rand < 0:\n",
    "        lim = 0 - r_rand\n",
    "        R[R < lim] = 0\n",
    "        R[R >= lim] = (r_rand + R[R >= lim]).astype(img.dtype)\n",
    "    img_merge = cv2.merge((B,G,R))\n",
    "    return img_merge\n",
    "\n",
    "img_random_color = random_color(img)\n",
    "cv2.imshow('change_color',img_random_color)\n",
    "key = cv2.waitKey()"
   ]
  },
  {
   "cell_type": "code",
   "execution_count": null,
   "metadata": {},
   "outputs": [],
   "source": [
    "#gamma校正，https://blog.csdn.net/linqianbi/article/details/78617615\n",
    "import math\n",
    "def adjust_gamma(image,gamma = 1.0):\n",
    "    table = []\n",
    "    inverse_gamma = 1.0 / gamma\n",
    "    for i in range(256):\n",
    "        table.append(math.floor((i/255)**inverse_gamma*255))\n",
    "    table = np.array(table).astype('uint8')\n",
    "    return cv2.LUT(image,table)\n",
    "img_dark = cv2.imread('d:/pictures/gamma.jpg')\n",
    "img_darker = adjust_gamma(img_dark,gamma = 0.5)\n",
    "img_brighter = adjust_gamma(img_dark,gamma = 2)\n",
    "cv2.imshow('img_dark',img_dark)\n",
    "cv2.imshow('img_darker',img_darker)\n",
    "cv2.imshow('img_brighter',img_brighter)\n",
    "key = cv2.waitKey()"
   ]
  },
  {
   "cell_type": "code",
   "execution_count": null,
   "metadata": {},
   "outputs": [],
   "source": [
    "#直方图\n",
    "img_small_brighter = cv2.resize(img_brighter,(int(img_brighter.shape[0]*0.5),int(img_brighter.shape[0]*0.5)))\n",
    "plt.hist(img_brighter.flatten(),256,[0,256],color='r')\n",
    "img_yuv = cv2.cvtColor(img_small_brighter,cv2.COLOR_RGB2YUV)\n",
    "img_yuv[:,:,0] = cv2.equalizeHist(img_yuv[:,:,0] )\n",
    "img_output = cv2.cvtColor(img_yuv,cv2.COLOR_YUV2RGB)\n",
    "cv2.imshow('Color input image',img_small_brighter)\n",
    "cv2.imshow('Histogram equalized',img_output)\n",
    "key = cv2.waitKey()\n"
   ]
  },
  {
   "cell_type": "code",
   "execution_count": null,
   "metadata": {},
   "outputs": [],
   "source": [
    "#图像旋转，绕着中心点,https://www.cnblogs.com/baocong/p/7257607.html\n",
    "row,col,channel = img.shape\n",
    "M = cv2.getRotationMatrix2D((row/2,col/2),10,0.8)\n",
    "img_rotate = cv2.warpAffine(img,M,(col,row))\n",
    "cv2.imshow('img_rotate',img_rotate)\n",
    "key = cv2.waitKey()\n",
    "cv2.destroyAllWindows"
   ]
  },
  {
   "cell_type": "code",
   "execution_count": null,
   "metadata": {},
   "outputs": [],
   "source": [
    "#图像旋转，围绕着左下角的点\n",
    "M = cv2.getRotationMatrix2D((0,row),10,0.8)\n",
    "img_rotate = cv2.warpAffine(img,M,(col,row))\n",
    "cv2.imshow('img_rotate',img_rotate)\n",
    "key = cv2.waitKey()\n",
    "cv2.destroyAllWindows"
   ]
  },
  {
   "cell_type": "code",
   "execution_count": null,
   "metadata": {},
   "outputs": [],
   "source": [
    "#平移变换,http://blog.topspeedsnail.com/archives/2124\n",
    "row,col,channel = img.shape\n",
    "M = np.float32([[1,0,100],[0,1,50]])\n",
    "img_trans = cv2.warpAffine(img,M,(col,row))\n",
    "cv2.imshow('img_trans',img_trans)\n",
    "key = cv2.waitKey()"
   ]
  },
  {
   "cell_type": "code",
   "execution_count": null,
   "metadata": {},
   "outputs": [],
   "source": []
  },
  {
   "cell_type": "code",
   "execution_count": null,
   "metadata": {},
   "outputs": [],
   "source": [
    "#仿射变换\n",
    "row,col,channel = img.shape\n",
    "pts1 = np.float32([[0, 0], [col - 1, 0], [0, row - 1]])\n",
    "pts2 = np.float32([[col * 0.2, row * 0.1], [col * 0.9, row * 0.2], [col * 0.1, row * 0.9]])\n",
    "M = cv2.getAffineTransform(pts1,pts2)\n",
    "img_aff = cv2.warpAffine(img,M,(col,row))\n",
    "cv2.imshow('img_aff',img_aff)\n",
    "key = cv2.waitKey()"
   ]
  },
  {
   "cell_type": "code",
   "execution_count": null,
   "metadata": {},
   "outputs": [],
   "source": [
    "#透视变换\n",
    "row,col,channel = img.shape\n",
    "random_margin=60\n",
    "x1 = random.randint(-random_margin, random_margin)\n",
    "y1 = random.randint(-random_margin, random_margin)\n",
    "x2 = random.randint(col - random_margin - 1, col - 1)\n",
    "y2 = random.randint(-random_margin, random_margin)\n",
    "x3 = random.randint(col - random_margin - 1, col - 1)\n",
    "y3 = random.randint(row - random_margin - 1, row - 1)\n",
    "x4 = random.randint(-random_margin, random_margin)\n",
    "y4 = random.randint(row - random_margin - 1, row - 1)\n",
    "\n",
    "dx1 = random.randint(-random_margin, random_margin)\n",
    "dy1 = random.randint(-random_margin, random_margin)\n",
    "dx2 = random.randint(col - random_margin - 1, col - 1)\n",
    "dy2 = random.randint(-random_margin, random_margin)\n",
    "dx3 = random.randint(col - random_margin - 1, col - 1)\n",
    "dy3 = random.randint(row - random_margin - 1, row - 1)\n",
    "dx4 = random.randint(-random_margin, random_margin)\n",
    "dy4 = random.randint(row - random_margin - 1, row - 1)\n",
    "\n",
    "pts1 = np.float32([[x1, y1], [x2, y2], [x3, y3], [x4, y4]])\n",
    "pts2 = np.float32([[dx1, dy1], [dx2, dy2], [dx3, dy3], [dx4, dy4]])\n",
    "M = cv2.getPerspectiveTransform(pts1,pts2)\n",
    "img_per = cv2.warpPerspective(img,M,(col,row))\n",
    "cv2.imshow('img_per',img_per)\n",
    "key = cv2.waitKey()"
   ]
  },
  {
   "cell_type": "code",
   "execution_count": null,
   "metadata": {},
   "outputs": [],
   "source": [
    "#透视变换\n",
    "row,col,channel = img.shape\n",
    "pts1 = np.float32([[56,65],[368,52],[28,387],[389,390]])\n",
    "pts2 = np.float32([[0,0],[300,0],[0,300],[300,300]])\n",
    "M = cv2.getPerspectiveTransform(pts1,pts2)\n",
    "img_per = cv2.warpPerspective(img,M,(col,row))\n",
    "cv2.imshow('img_per',img_per)\n",
    "key = cv2.waitKey()"
   ]
  },
  {
   "cell_type": "code",
   "execution_count": null,
   "metadata": {},
   "outputs": [],
   "source": []
  }
 ],
 "metadata": {
  "kernelspec": {
   "display_name": "Python 3",
   "language": "python",
   "name": "python3"
  },
  "language_info": {
   "codemirror_mode": {
    "name": "ipython",
    "version": 3
   },
   "file_extension": ".py",
   "mimetype": "text/x-python",
   "name": "python",
   "nbconvert_exporter": "python",
   "pygments_lexer": "ipython3",
   "version": "3.7.0"
  }
 },
 "nbformat": 4,
 "nbformat_minor": 2
}
