{
 "cells": [
  {
   "cell_type": "code",
   "execution_count": 59,
   "metadata": {},
   "outputs": [],
   "source": [
    "#第一步：画出图形界面\n",
    "from tkinter import *\n",
    "\n",
    "root = Tk()\n",
    "root.geometry('250x380')\n",
    "root.title(\"北京图灵学院\")\n",
    "\n",
    "#定义面板\n",
    "frame_show = Frame(width = 300,height = 150,bg='#dddddd')\n",
    "frame_show.pack()\n",
    "\n",
    "#定义顶部区域\n",
    "sv = StringVar()\n",
    "sv.set('0')\n",
    "\n",
    "#定义控件的锚点，e代表右边\n",
    "show_label = Label(frame_show,textvariable=sv,bg='green',width = 12,height=1,font=(\"黑体\",20,'bold'),justify = LEFT,anchor='e')\n",
    "show_label.pack(padx=10,pady=10)\n",
    "\n",
    "\n",
    "num1 = '' \n",
    "num2 = ''\n",
    "operator = None\n",
    "\n",
    "def change(num):\n",
    "    if not operator:\n",
    "        global num1\n",
    "        num1 = num1 + num\n",
    "        sv.set(num1)\n",
    "    else:\n",
    "        global num2\n",
    "        num2 = num2 + num\n",
    "        sv.set(num1+operator+num2)\n",
    "\n",
    "#清空之后，要把其他值也清空\n",
    "def clear():\n",
    "    sv.set('0')\n",
    "    global num1\n",
    "    global num2\n",
    "    global operator\n",
    "    num1 = ''\n",
    "    num2 = ''\n",
    "    operator = None  \n",
    "\n",
    "def operation(op):\n",
    "    global operator\n",
    "    if op in ['+','-','*','/']:\n",
    "        operator = op\n",
    "        sv.set(num1+operator)\n",
    "    else:\n",
    "        if operator == '+':\n",
    "            rst = int(num1)+int(num2)\n",
    "        if operator == '-':\n",
    "            rst = int(num1)-int(num2)\n",
    "        if operator == '*':\n",
    "            rst = int(num1)*int(num2)\n",
    "        if operator == '/':\n",
    "            rst = int(num1)/int(num2)\n",
    "        sv.set(str(rst))\n",
    "            \n",
    "#按键区域\n",
    "frame_bord = Frame(width=400,height=350,bg='#cccccc')\n",
    "\n",
    "b_1 = Button(frame_bord,text='1',width=5,height=1,command=lambda:change(\"1\"))\n",
    "b_1.grid(row = 0,column = 0)\n",
    "b_2 = Button(frame_bord,text='2',width=5,height=1,command=lambda:change(\"2\"))\n",
    "b_2.grid(row = 0,column = 1)\n",
    "b_3 = Button(frame_bord,text='3',width=5,height=1,command=lambda:change(\"3\"))\n",
    "b_3.grid(row = 0,column = 2)\n",
    "b_clear = Button(frame_bord,text='C',width=5,height=1,command=clear)\n",
    "b_clear.grid(row = 0,column = 3)\n",
    "\n",
    "b_4 = Button(frame_bord,text='4',width=5,height=1,command=lambda:change(\"4\"))\n",
    "b_4.grid(row = 1,column = 0)\n",
    "b_5 = Button(frame_bord,text='5',width=5,height=1,command=lambda:change(\"5\"))\n",
    "b_5.grid(row = 1,column = 1)\n",
    "b_6 = Button(frame_bord,text='6',width=5,height=1,command=lambda:change(\"6\"))\n",
    "b_6.grid(row = 1,column = 2)\n",
    "b_che = Button(frame_bord,text='*',width=5,height=1,command=lambda:operation(\"*\"))\n",
    "b_che.grid(row = 1,column = 3)\n",
    "\n",
    "b_7 = Button(frame_bord,text='7',width=5,height=1,command=lambda:change(\"7\"))\n",
    "b_7.grid(row = 2,column = 0)\n",
    "b_8 = Button(frame_bord,text='8',width=5,height=1,command=lambda:change(\"8\"))\n",
    "b_8.grid(row = 2,column = 1)\n",
    "b_9 = Button(frame_bord,text='9',width=5,height=1,command=lambda:change(\"9\"))\n",
    "b_9.grid(row = 2,column = 2)\n",
    "b_chu = Button(frame_bord,text='/',width=5,height=1,command=lambda:operation(\"/\"))\n",
    "b_chu.grid(row = 2,column = 3)\n",
    "\n",
    "b_0 = Button(frame_bord,text='0',width=5,height=1,command=lambda:change(\"0\"))\n",
    "b_0.grid(row = 3,column = 0)\n",
    "b_jia = Button(frame_bord,text='+',width=5,height=1,command=lambda:operation(\"+\"))\n",
    "b_jia.grid(row = 3,column = 1)\n",
    "b_jian = Button(frame_bord,text='-',width=5,height=1,command=lambda:operation(\"-\"))\n",
    "b_jian.grid(row = 3,column = 2)\n",
    "b_deng = Button(frame_bord,text='=',width=5,height=1,command=lambda:operation(\"=\"))\n",
    "b_deng.grid(row = 3,column = 3)\n",
    "\n",
    "\n",
    "frame_bord.pack(padx=10,pady=10)\n",
    "root.mainloop()"
   ]
  },
  {
   "cell_type": "code",
   "execution_count": 47,
   "metadata": {},
   "outputs": [
    {
     "name": "stdout",
     "output_type": "stream",
     "text": [
      "False\n"
     ]
    }
   ],
   "source": [
    "operator = '+'\n",
    "print(not operator)\n",
    "\n"
   ]
  },
  {
   "cell_type": "code",
   "execution_count": 46,
   "metadata": {},
   "outputs": [
    {
     "name": "stdout",
     "output_type": "stream",
     "text": [
      "1\n"
     ]
    }
   ],
   "source": [
    "print(''+'1')"
   ]
  },
  {
   "cell_type": "code",
   "execution_count": null,
   "metadata": {},
   "outputs": [],
   "source": []
  }
 ],
 "metadata": {
  "kernelspec": {
   "display_name": "Python 3",
   "language": "python",
   "name": "python3"
  },
  "language_info": {
   "codemirror_mode": {
    "name": "ipython",
    "version": 3
   },
   "file_extension": ".py",
   "mimetype": "text/x-python",
   "name": "python",
   "nbconvert_exporter": "python",
   "pygments_lexer": "ipython3",
   "version": "3.7.0"
  }
 },
 "nbformat": 4,
 "nbformat_minor": 2
}
